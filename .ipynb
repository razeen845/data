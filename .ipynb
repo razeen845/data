{
 "cells": [
  {
   "cell_type": "code",
   "execution_count": 1,
   "metadata": {},
   "outputs": [],
   "source": [
    "import csv\n",
    "import requests\n",
    "from urllib.parse import urlparse\n",
    "import os"
   ]
  },
  {
   "cell_type": "code",
   "execution_count": 8,
   "metadata": {},
   "outputs": [],
   "source": [
    "file_path=\"ETL Automation Status.xlsx - NZ_Quarterly.csv\""
   ]
  },
  {
   "cell_type": "code",
   "execution_count": 9,
   "metadata": {},
   "outputs": [],
   "source": [
    "download_dir='download_files'"
   ]
  },
  {
   "cell_type": "code",
   "execution_count": 10,
   "metadata": {},
   "outputs": [],
   "source": [
    "os.makedirs(download_dir, exist_ok=True)"
   ]
  },
  {
   "cell_type": "code",
   "execution_count": 11,
   "metadata": {},
   "outputs": [],
   "source": [
    "errors=[]"
   ]
  },
  {
   "cell_type": "code",
   "execution_count": 12,
   "metadata": {},
   "outputs": [],
   "source": [
    "with open(file_path, \"r\", encoding=\"ISO-8859-1\") as file:\n",
    "    reader = csv.DictReader(file)"
   ]
  },
  {
   "cell_type": "code",
   "execution_count": null,
   "metadata": {},
   "outputs": [],
   "source": [
    "for row in reader:\n",
    "    url=row.get(\"Weblink\")\n",
    "    if url and url.startswith(\"http\"):\n",
    "        try:\n",
    "               \n",
    "               parsed_url = urlparse(url)\n",
    "               file_name = os.path.basename(parsed_url.path)\n",
    "                \n",
    "                # Define the path to save the downloaded file\n",
    "               save_path = os.path.join(download_dir, file_name)\n",
    "                \n",
    "                # Download the file\n",
    "               response = requests.get(url)\n",
    "               response.raise_for_status()  # Check if the request was successful\n",
    "                \n",
    "                # Write the content to a file\n",
    "               with open(save_path, \"wb\") as f:\n",
    "                    f.write(response.content)\n",
    "                    \n",
    "               print(f\"Downloaded: {file_name}\")\n",
    "        except Exception as e:\n",
    "                errors.append((url, str(e)))\n",
    "                print(f\"Failed to download from {url}: {e}\")\n",
    "if errors:\n",
    "    print(\"Errors occurred during the download:\")\n",
    "    for error in errors:\n",
    "        print(error)\n",
    "                        "
   ]
  }
 ],
 "metadata": {
  "kernelspec": {
   "display_name": "Python 3",
   "language": "python",
   "name": "python3"
  },
  "language_info": {
   "codemirror_mode": {
    "name": "ipython",
    "version": 3
   },
   "file_extension": ".py",
   "mimetype": "text/x-python",
   "name": "python",
   "nbconvert_exporter": "python",
   "pygments_lexer": "ipython3",
   "version": "3.12.4"
  }
 },
 "nbformat": 4,
 "nbformat_minor": 2
}
